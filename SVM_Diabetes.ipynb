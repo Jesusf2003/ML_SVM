{
 "cells": [
  {
   "cell_type": "markdown",
   "metadata": {},
   "source": [
    "# __Support Vector Machine - SVM__\n",
    "---\n",
    "En esta demostración haremos uso de una SVM para construir y entrenar un modelo usando ejemplos proporcionados por humanos\n",
    "y ejemplos para ya sea predecir que ejemplos son malignos o benignos.\n",
    "\n",
    "\n",
    "Haremos uso de un dataset llamado __Cancer.csv__ del repositorio de [UCI Machine Learning](https://archive.ics.uci.edu/ml/datasets/breast+cancer+wisconsin+%28original%29).\n",
    "\n",
    "\n",
    "En el dataset definiremos el valor y estado de cáncer se la siguiente forma.\n",
    "- Class 2 = mild state\n",
    "- Class 4 = evil state"
   ]
  },
  {
   "cell_type": "markdown",
   "metadata": {},
   "source": [
    "## __¿Cómo usar una SVM?__\n",
    "\n",
    "Las SVM son usadas como técnicas de clasificación las cuales primero buscan encontrar el hiperplano que puede separar objetos de diferentes clases y entonces deja un máximo margen de puntos anidados de cada clase para la separación del hiperplano.\n",
    "\n",
    "## __Importando librerías__"
   ]
  },
  {
   "cell_type": "code",
   "execution_count": 3,
   "metadata": {},
   "outputs": [],
   "source": [
    "import pandas as pd\n",
    "import numpy as np\n",
    "import matplotlib.pyplot as plt"
   ]
  },
  {
   "cell_type": "markdown",
   "metadata": {},
   "source": [
    "## __Cargamos el dataset__\n",
    "\n",
    "Lo primero que haremos será cargar el [dataset](./dataset/cancer.csv) que hemos descargado anteriormente y listamos los ejemplos de las primeras 5 filas de la siguiente forma."
   ]
  },
  {
   "cell_type": "code",
   "execution_count": 4,
   "metadata": {},
   "outputs": [
    {
     "data": {
      "text/html": [
       "<div>\n",
       "<style scoped>\n",
       "    .dataframe tbody tr th:only-of-type {\n",
       "        vertical-align: middle;\n",
       "    }\n",
       "\n",
       "    .dataframe tbody tr th {\n",
       "        vertical-align: top;\n",
       "    }\n",
       "\n",
       "    .dataframe thead th {\n",
       "        text-align: right;\n",
       "    }\n",
       "</style>\n",
       "<table border=\"1\" class=\"dataframe\">\n",
       "  <thead>\n",
       "    <tr style=\"text-align: right;\">\n",
       "      <th></th>\n",
       "      <th>ID</th>\n",
       "      <th>Clump</th>\n",
       "      <th>UnifSize</th>\n",
       "      <th>UnifShape</th>\n",
       "      <th>MargAdh</th>\n",
       "      <th>SingEpiSize</th>\n",
       "      <th>BareNuc</th>\n",
       "      <th>BlandChrom</th>\n",
       "      <th>NormNucl</th>\n",
       "      <th>Mit</th>\n",
       "      <th>Class</th>\n",
       "    </tr>\n",
       "  </thead>\n",
       "  <tbody>\n",
       "    <tr>\n",
       "      <th>0</th>\n",
       "      <td>1000025</td>\n",
       "      <td>5</td>\n",
       "      <td>1</td>\n",
       "      <td>1</td>\n",
       "      <td>1</td>\n",
       "      <td>2</td>\n",
       "      <td>1</td>\n",
       "      <td>3</td>\n",
       "      <td>1</td>\n",
       "      <td>1</td>\n",
       "      <td>2</td>\n",
       "    </tr>\n",
       "    <tr>\n",
       "      <th>1</th>\n",
       "      <td>1002945</td>\n",
       "      <td>5</td>\n",
       "      <td>4</td>\n",
       "      <td>4</td>\n",
       "      <td>5</td>\n",
       "      <td>7</td>\n",
       "      <td>10</td>\n",
       "      <td>3</td>\n",
       "      <td>2</td>\n",
       "      <td>1</td>\n",
       "      <td>2</td>\n",
       "    </tr>\n",
       "    <tr>\n",
       "      <th>2</th>\n",
       "      <td>1015425</td>\n",
       "      <td>3</td>\n",
       "      <td>1</td>\n",
       "      <td>1</td>\n",
       "      <td>1</td>\n",
       "      <td>2</td>\n",
       "      <td>2</td>\n",
       "      <td>3</td>\n",
       "      <td>1</td>\n",
       "      <td>1</td>\n",
       "      <td>2</td>\n",
       "    </tr>\n",
       "    <tr>\n",
       "      <th>3</th>\n",
       "      <td>1016277</td>\n",
       "      <td>6</td>\n",
       "      <td>8</td>\n",
       "      <td>8</td>\n",
       "      <td>1</td>\n",
       "      <td>3</td>\n",
       "      <td>4</td>\n",
       "      <td>3</td>\n",
       "      <td>7</td>\n",
       "      <td>1</td>\n",
       "      <td>2</td>\n",
       "    </tr>\n",
       "    <tr>\n",
       "      <th>4</th>\n",
       "      <td>1017023</td>\n",
       "      <td>4</td>\n",
       "      <td>1</td>\n",
       "      <td>1</td>\n",
       "      <td>3</td>\n",
       "      <td>2</td>\n",
       "      <td>1</td>\n",
       "      <td>3</td>\n",
       "      <td>1</td>\n",
       "      <td>1</td>\n",
       "      <td>2</td>\n",
       "    </tr>\n",
       "  </tbody>\n",
       "</table>\n",
       "</div>"
      ],
      "text/plain": [
       "        ID  Clump  UnifSize  UnifShape  MargAdh  SingEpiSize BareNuc  \\\n",
       "0  1000025      5         1          1        1            2       1   \n",
       "1  1002945      5         4          4        5            7      10   \n",
       "2  1015425      3         1          1        1            2       2   \n",
       "3  1016277      6         8          8        1            3       4   \n",
       "4  1017023      4         1          1        3            2       1   \n",
       "\n",
       "   BlandChrom  NormNucl  Mit  Class  \n",
       "0           3         1    1      2  \n",
       "1           3         2    1      2  \n",
       "2           3         1    1      2  \n",
       "3           3         7    1      2  \n",
       "4           3         1    1      2  "
      ]
     },
     "execution_count": 4,
     "metadata": {},
     "output_type": "execute_result"
    }
   ],
   "source": [
    "df = pd.read_csv(\"./dataset/cancer.csv\")\n",
    "df.head()"
   ]
  },
  {
   "cell_type": "markdown",
   "metadata": {},
   "source": [
    "## __Analizamos las filas y columnas del dataset__\n",
    "\n",
    "Analizamos la estructura de nuestro dataset obteniendo los siguientes datos:\n",
    "\n",
    "- Cantidad de filas y columnas.\n",
    "\n",
    "- Cantidad de Celdas(Fila * Columna)\n",
    "\n",
    "- Cantidad de filas con ejemplos por columna.\n",
    "\n",
    "- Valores repetidos por columna."
   ]
  },
  {
   "cell_type": "code",
   "execution_count": 5,
   "metadata": {},
   "outputs": [
    {
     "name": "stdout",
     "output_type": "stream",
     "text": [
      "Cant. filas y columnas:  (699, 11)\n",
      "\n",
      "Cant. de celdas:  7689\n",
      "\n",
      "Cant. de filas por columna\n",
      "ID             699\n",
      "Clump          699\n",
      "UnifSize       699\n",
      "UnifShape      699\n",
      "MargAdh        699\n",
      "SingEpiSize    699\n",
      "BareNuc        699\n",
      "BlandChrom     699\n",
      "NormNucl       699\n",
      "Mit            699\n",
      "Class          699\n",
      "dtype: int64\n",
      "\n",
      "Valores repetidos por columna\n",
      "2    458\n",
      "4    241\n",
      "Name: Class, dtype: int64\n"
     ]
    }
   ],
   "source": [
    "print(\"Cant. filas y columnas: \", df.shape)\n",
    "print()\n",
    "\n",
    "print(\"Cant. de celdas: \", df.size)\n",
    "print()\n",
    "\n",
    "print(\"Cant. de filas por columna\")\n",
    "print(df.count())\n",
    "print()\n",
    "\n",
    "print(\"Valores repetidos por columna\")\n",
    "print(df['Class'].value_counts())"
   ]
  },
  {
   "cell_type": "markdown",
   "metadata": {},
   "source": [
    "## __Declarando etiquetas__\n",
    "\n",
    "Procedemos a mostrar los tipos de cancer y estraer la cantidad de veces que se repiten los cuales, se dividen de la siguiente forma:\n",
    "\n",
    "- Class 2(Benign) con 458 ejemplos.\n",
    "\n",
    "- Class 4(Malignant) con 241 ejemplos.\n",
    "\n",
    "Lo que haremos ahora será construir un modelo usando estos ejemplos."
   ]
  },
  {
   "cell_type": "code",
   "execution_count": 6,
   "metadata": {},
   "outputs": [],
   "source": [
    "benign = df[df['Class'] == 2]\n",
    "malignant = df[df['Class'] == 4]"
   ]
  },
  {
   "cell_type": "markdown",
   "metadata": {},
   "source": [
    "## __Graficamos los datos__\n",
    "\n",
    "Ya habiendo extraido los datos del dataset, vamos a colocar nuestras etiquetas en un gráfico.\n",
    "\n",
    "Para ello, usaremos la función plot() y agregaremos los siguientes atributos:\n",
    "\n",
    "- kind: Tipo de gráfico.\n",
    "\n",
    "- x: Eje vertical\n",
    "\n",
    "- y: Eje horizontal\n",
    "\n",
    "- color: Color representativo de los datos.\n",
    "\n",
    "- label: Título del gráfico"
   ]
  },
  {
   "cell_type": "code",
   "execution_count": 7,
   "metadata": {},
   "outputs": [
    {
     "data": {
      "text/plain": [
       "<AxesSubplot:xlabel='Clump', ylabel='UnifSize'>"
      ]
     },
     "execution_count": 7,
     "metadata": {},
     "output_type": "execute_result"
    },
    {
     "data": {
      "image/png": "[encoded data removed]",
      "text/plain": [
       "<Figure size 432x288 with 1 Axes>"
      ]
     },
     "metadata": {
      "needs_background": "light"
     },
     "output_type": "display_data"
    },
    {
     "data": {
      "image/png": "[encoded data removed]",
      "text/plain": [
       "<Figure size 432x288 with 1 Axes>"
      ]
     },
     "metadata": {
      "needs_background": "light"
     },
     "output_type": "display_data"
    }
   ],
   "source": [
    "benign.plot(\n",
    "    kind='scatter',\n",
    "    x=\"Clump\",\n",
    "    y=\"UnifSize\",\n",
    "    color='green',\n",
    "    label=\"BENIGN CLASS\"\n",
    ")\n",
    "\n",
    "malignant.plot(\n",
    "    kind='scatter',\n",
    "    x=\"Clump\",\n",
    "    y=\"UnifSize\",\n",
    "    color='red',\n",
    "    label=\"MALIGNANT CLASS\"\n",
    ")"
   ]
  },
  {
   "cell_type": "markdown",
   "metadata": {},
   "source": [
    "## __Uniendo gráficos__\n",
    "\n",
    "Vamos a traer ambos gráficos y mostraremos los datos en uno solo.\n",
    "\n",
    "Para ello haremos lo siguiente:\n",
    "\n",
    "- Declarar la variable __axes__ como el gráfico __benign__.\n",
    "\n",
    "- Agregar al gráfico malignant el atributo __ax__ y le asignamos nuestra variable __axes__."
   ]
  },
  {
   "cell_type": "code",
   "execution_count": 8,
   "metadata": {},
   "outputs": [
    {
     "data": {
      "text/plain": [
       "<AxesSubplot:xlabel='Clump', ylabel='UnifSize'>"
      ]
     },
     "execution_count": 8,
     "metadata": {},
     "output_type": "execute_result"
    },
    {
     "data": {
      "image/png": "[encoded data removed]",
      "text/plain": [
       "<Figure size 432x288 with 1 Axes>"
      ]
     },
     "metadata": {
      "needs_background": "light"
     },
     "output_type": "display_data"
    }
   ],
   "source": [
    "axes = benign.plot(\n",
    "    kind='scatter',\n",
    "    x=\"Clump\",\n",
    "    y=\"UnifSize\",\n",
    "    color='green',\n",
    "    label=\"BENIGN CLASS\"\n",
    ")\n",
    "\n",
    "malignant.plot(\n",
    "    kind='scatter',\n",
    "    x=\"Clump\",\n",
    "    y=\"UnifSize\",\n",
    "    color='red',\n",
    "    label=\"MALIGNANT CLASS\",\n",
    "    ax=axes\n",
    ")"
   ]
  },
  {
   "cell_type": "markdown",
   "metadata": {},
   "source": [
    "## __Corrigiendo datos__\n",
    "\n",
    "Ahora necesitamos identificar las filas indeseadas. Para poder ver esto, vamos a usar buscarlas como un tipo de dato __Object__.\n",
    "\n",
    "Los quitaremos porque no podemos representar __operaciones matemáticas__ en datos __no numéricos__ por lo que necesitamos convertirlos a enteros(int)."
   ]
  },
  {
   "cell_type": "code",
   "execution_count": 9,
   "metadata": {},
   "outputs": [
    {
     "name": "stdout",
     "output_type": "stream",
     "text": [
      "ID              int64\n",
      "Clump           int64\n",
      "UnifSize        int64\n",
      "UnifShape       int64\n",
      "MargAdh         int64\n",
      "SingEpiSize     int64\n",
      "BareNuc        object\n",
      "BlandChrom      int64\n",
      "NormNucl        int64\n",
      "Mit             int64\n",
      "Class           int64\n",
      "dtype: object\n"
     ]
    }
   ],
   "source": [
    "# Mostramos la estructura de nuestro dataset\n",
    "\n",
    "print(df.dtypes)"
   ]
  },
  {
   "cell_type": "markdown",
   "metadata": {},
   "source": [
    "### __Convirtiendo tipos de datos__\n",
    "\n",
    "En este caso, BareNuc es un campo de tipo __object__, es decir, un no numérico por lo que vamos a convertirlo a __int__ y posteriormente mostramos los cambios."
   ]
  },
  {
   "cell_type": "code",
   "execution_count": 10,
   "metadata": {},
   "outputs": [
    {
     "data": {
      "text/plain": [
       "ID             int64\n",
       "Clump          int64\n",
       "UnifSize       int64\n",
       "UnifShape      int64\n",
       "MargAdh        int64\n",
       "SingEpiSize    int64\n",
       "BareNuc        int64\n",
       "BlandChrom     int64\n",
       "NormNucl       int64\n",
       "Mit            int64\n",
       "Class          int64\n",
       "dtype: object"
      ]
     },
     "execution_count": 10,
     "metadata": {},
     "output_type": "execute_result"
    }
   ],
   "source": [
    "# Convertimos los tipos de datos no numéricos en enteros\n",
    "\n",
    "df = df[pd.to_numeric(df[\"BareNuc\"], errors=\"coerce\").notnull()]\n",
    "df[\"BareNuc\"] = df[\"BareNuc\"].astype(\"int64\")\n",
    "\n",
    "# Mostramos los cambios\n",
    "df.dtypes"
   ]
  },
  {
   "cell_type": "markdown",
   "metadata": {},
   "source": [
    "### __Mostrando columnas__"
   ]
  },
  {
   "cell_type": "code",
   "execution_count": 11,
   "metadata": {},
   "outputs": [
    {
     "data": {
      "text/plain": [
       "Index(['ID', 'Clump', 'UnifSize', 'UnifShape', 'MargAdh', 'SingEpiSize',\n",
       "       'BareNuc', 'BlandChrom', 'NormNucl', 'Mit', 'Class'],\n",
       "      dtype='object')"
      ]
     },
     "execution_count": 11,
     "metadata": {},
     "output_type": "execute_result"
    }
   ],
   "source": [
    "# Revisamos las columnas en nuestro dataset\n",
    "\n",
    "df.columns"
   ]
  },
  {
   "cell_type": "markdown",
   "metadata": {},
   "source": [
    "### __Removiendo columnas__\n",
    "\n",
    "No necesitamos la columna __ID__ porque no se usa el numero de identificación para entrenar nuestro dataset y la columna __Class__ tampoco porque es nuestra variable dependiente.\n",
    "\n",
    "Para remover las columnas que no queremos, haremos uso del siguiente código:"
   ]
  },
  {
   "cell_type": "code",
   "execution_count": 12,
   "metadata": {},
   "outputs": [],
   "source": [
    "# Quitamos la columna que no queremo(Class)\n",
    "\n",
    "feature = df[\n",
    "    [\n",
    "        'Clump',    'UnifSize',     'UnifShape',    'MargAdh',  'SingEpiSize',\n",
    "        'BareNuc',  'BlandChrom',   'NormNucl',     'Mit'\n",
    "    ]\n",
    "]"
   ]
  },
  {
   "cell_type": "markdown",
   "metadata": {},
   "source": [
    "## __Declarando variables__\n",
    "\n",
    "En este caso:\n",
    "\n",
    "* X es una variable independiente.\n",
    "\n",
    "* Y es una variable dependiente.\n",
    "\n",
    "Mostramos en forma de __array__ los siguientes datos enteros."
   ]
  },
  {
   "cell_type": "code",
   "execution_count": 13,
   "metadata": {},
   "outputs": [
    {
     "data": {
      "text/plain": [
       "array([[ 5,  1,  1, ...,  3,  1,  1],\n",
       "       [ 5,  4,  4, ...,  3,  2,  1],\n",
       "       [ 3,  1,  1, ...,  3,  1,  1],\n",
       "       ...,\n",
       "       [ 5, 10, 10, ...,  8, 10,  2],\n",
       "       [ 4,  8,  6, ..., 10,  6,  1],\n",
       "       [ 4,  8,  8, ..., 10,  4,  1]], dtype=int64)"
      ]
     },
     "execution_count": 13,
     "metadata": {},
     "output_type": "execute_result"
    }
   ],
   "source": [
    "# Creamos variables dependientes e independientes\n",
    "\n",
    "x = np.asarray(feature)         # X es independiente\n",
    "y = np.asarray(df[\"Class\"])     # y es dependiente\n",
    "\n",
    "x"
   ]
  },
  {
   "cell_type": "markdown",
   "metadata": {},
   "source": [
    "## __Entrenando nuestra data__\n",
    "\n",
    "Ahora que hemos declarado nuestras variables __X__ y __Y__, vamos a entrenar nuestra data.\n",
    "\n",
    "* Importamos el módulo __train_test_split__ de la librería __Sklearn__.\n",
    "\n",
    "* Declarar las variables de __entrenamiento__(train) y __prueba__(test) con sus respectivos ejes.\n",
    "\n",
    "* Declaramos un 0.3(30%) al tamaño de prueba.\n",
    "\n",
    "* Imprimimos el siguiente resultado:\n",
    "    \n",
    "    - 546 datos son usados para entrenamiento\n",
    "\n",
    "    - 137 datos son usados para prueba"
   ]
  },
  {
   "cell_type": "code",
   "execution_count": 14,
   "metadata": {},
   "outputs": [
    {
     "name": "stdout",
     "output_type": "stream",
     "text": [
      "Entrenamiento\n",
      "(478, 9)\n",
      "\n",
      "Prueba\n",
      "(205, 9)\n"
     ]
    }
   ],
   "source": [
    "from sklearn.model_selection import train_test_split\n",
    "\n",
    "x_train, x_test, y_train, y_test = train_test_split(\n",
    "    x, y,\n",
    "    test_size=0.3,\n",
    "    random_state=2\n",
    ")\n",
    "\n",
    "print(\"Entrenamiento\")\n",
    "print(x_train.shape)\n",
    "print()\n",
    "\n",
    "print(\"Prueba\")\n",
    "print(x_test.shape)"
   ]
  },
  {
   "cell_type": "markdown",
   "metadata": {},
   "source": [
    "## __Generando el modelo ROC__"
   ]
  },
  {
   "cell_type": "code",
   "execution_count": 15,
   "metadata": {},
   "outputs": [
    {
     "data": {
      "image/png": "[encoded data removed]",
      "text/plain": [
       "<Figure size 432x288 with 1 Axes>"
      ]
     },
     "metadata": {
      "needs_background": "light"
     },
     "output_type": "display_data"
    }
   ],
   "source": [
    "from sklearn.metrics import roc_curve\n",
    "from sklearn.datasets import make_classification\n",
    "from sklearn.ensemble import RandomForestClassifier\n",
    "\n",
    "def plot_roc_curve(fper, tper):\n",
    "    plt.plot(fper, tper, color='red', label='ROC')\n",
    "    plt.plot([0, 1], [0, 1], color='green', linestyle='--')\n",
    "    plt.xlabel('False Positive Rate')\n",
    "    plt.ylabel('True Positive Rate')\n",
    "    plt.title('Receiver Operating Characteristic Curve')\n",
    "    plt.legend()\n",
    "    plt.show()\n",
    "    \n",
    "data_X, cls_lab = make_classification(n_samples=2100, n_classes=2, weights=[1,1], random_state=2)\n",
    "train_X, test_X, train_y, test_y = train_test_split(data_X, cls_lab, test_size=0.5, random_state=2)\n",
    "\n",
    "model =RandomForestClassifier()\n",
    "model.fit(train_X, train_y)\n",
    "\n",
    "prob = model.predict_proba(test_X)\n",
    "prob = prob[:, 1]\n",
    "fper, tper, thresholds = roc_curve(test_y, prob)\n",
    "plot_roc_curve(fper, tper)"
   ]
  },
  {
   "cell_type": "markdown",
   "metadata": {},
   "source": [
    "## __Creación de la Support Vector Machine__\n",
    "\n",
    "Creamos nuestro modelo de SVM usando la librería Scikit-learn. Aquí vamos a usar una SVC(Support Vector Classifier).\n",
    "\n",
    "Para ello hacemos lo siguiente:\n",
    "\n",
    "- Importar la librería\n",
    "\n",
    "- Crear la variable __model__ y asignarle el tipo de clasificador que queremos usar.\n",
    "\n",
    "- La función SVC contará con los siguientes atributos:\n",
    "\n",
    "    * Kernel: Clases de algoritmos para patrones de análisis.\n",
    "\n",
    "    * Parámetros Gamma: Deteminan la distancia a la que una sola muestra de datos influye o se ajusta a la curvatura del límite de decisión.\n",
    "\n",
    "    * C: Determina la penalización o cuántas muestras se pueden colocar en diferentes clases."
   ]
  },
  {
   "cell_type": "code",
   "execution_count": null,
   "metadata": {},
   "outputs": [],
   "source": [
    "from sklearn import svm\n",
    "\n",
    "model = svm.SVC(\n",
    "    kernel='linear',\n",
    "    gamma=\"auto\",\n",
    "    C=0.3\n",
    ")"
   ]
  },
  {
   "cell_type": "markdown",
   "metadata": {},
   "source": [
    "### __Comparamos los datos actuales con las predicciones__\n",
    "\n",
    "Imprimimos los datos del modelo y agregamos nuestras variables __x_train__ e __y_test__ y en la parte inferior declaramos la variable __y_predicted__ y usamos la función __predict()__ y agregamos nuestra variable de prueba(x_test)."
   ]
  },
  {
   "cell_type": "code",
   "execution_count": null,
   "metadata": {},
   "outputs": [
    {
     "data": {
      "text/html": [
       "<style>#sk-container-id-2 {color: black;background-color: white;}#sk-container-id-2 pre{padding: 0;}#sk-container-id-2 div.sk-toggleable {background-color: white;}#sk-container-id-2 label.sk-toggleable__label {cursor: pointer;display: block;width: 100%;margin-bottom: 0;padding: 0.3em;box-sizing: border-box;text-align: center;}#sk-container-id-2 label.sk-toggleable__label-arrow:before {content: \"▸\";float: left;margin-right: 0.25em;color: #696969;}#sk-container-id-2 label.sk-toggleable__label-arrow:hover:before {color: black;}#sk-container-id-2 div.sk-estimator:hover label.sk-toggleable__label-arrow:before {color: black;}#sk-container-id-2 div.sk-toggleable__content {max-height: 0;max-width: 0;overflow: hidden;text-align: left;background-color: #f0f8ff;}#sk-container-id-2 div.sk-toggleable__content pre {margin: 0.2em;color: black;border-radius: 0.25em;background-color: #f0f8ff;}#sk-container-id-2 input.sk-toggleable__control:checked~div.sk-toggleable__content {max-height: 200px;max-width: 100%;overflow: auto;}#sk-container-id-2 input.sk-toggleable__control:checked~label.sk-toggleable__label-arrow:before {content: \"▾\";}#sk-container-id-2 div.sk-estimator input.sk-toggleable__control:checked~label.sk-toggleable__label {background-color: #d4ebff;}#sk-container-id-2 div.sk-label input.sk-toggleable__control:checked~label.sk-toggleable__label {background-color: #d4ebff;}#sk-container-id-2 input.sk-hidden--visually {border: 0;clip: rect(1px 1px 1px 1px);clip: rect(1px, 1px, 1px, 1px);height: 1px;margin: -1px;overflow: hidden;padding: 0;position: absolute;width: 1px;}#sk-container-id-2 div.sk-estimator {font-family: monospace;background-color: #f0f8ff;border: 1px dotted black;border-radius: 0.25em;box-sizing: border-box;margin-bottom: 0.5em;}#sk-container-id-2 div.sk-estimator:hover {background-color: #d4ebff;}#sk-container-id-2 div.sk-parallel-item::after {content: \"\";width: 100%;border-bottom: 1px solid gray;flex-grow: 1;}#sk-container-id-2 div.sk-label:hover label.sk-toggleable__label {background-color: #d4ebff;}#sk-container-id-2 div.sk-serial::before {content: \"\";position: absolute;border-left: 1px solid gray;box-sizing: border-box;top: 0;bottom: 0;left: 50%;z-index: 0;}#sk-container-id-2 div.sk-serial {display: flex;flex-direction: column;align-items: center;background-color: white;padding-right: 0.2em;padding-left: 0.2em;position: relative;}#sk-container-id-2 div.sk-item {position: relative;z-index: 1;}#sk-container-id-2 div.sk-parallel {display: flex;align-items: stretch;justify-content: center;background-color: white;position: relative;}#sk-container-id-2 div.sk-item::before, #sk-container-id-2 div.sk-parallel-item::before {content: \"\";position: absolute;border-left: 1px solid gray;box-sizing: border-box;top: 0;bottom: 0;left: 50%;z-index: -1;}#sk-container-id-2 div.sk-parallel-item {display: flex;flex-direction: column;z-index: 1;position: relative;background-color: white;}#sk-container-id-2 div.sk-parallel-item:first-child::after {align-self: flex-end;width: 50%;}#sk-container-id-2 div.sk-parallel-item:last-child::after {align-self: flex-start;width: 50%;}#sk-container-id-2 div.sk-parallel-item:only-child::after {width: 0;}#sk-container-id-2 div.sk-dashed-wrapped {border: 1px dashed gray;margin: 0 0.4em 0.5em 0.4em;box-sizing: border-box;padding-bottom: 0.4em;background-color: white;}#sk-container-id-2 div.sk-label label {font-family: monospace;font-weight: bold;display: inline-block;line-height: 1.2em;}#sk-container-id-2 div.sk-label-container {text-align: center;}#sk-container-id-2 div.sk-container {/* jupyter's `normalize.less` sets `[hidden] { display: none; }` but bootstrap.min.css set `[hidden] { display: none !important; }` so we also need the `!important` here to be able to override the default hidden behavior on the sphinx rendered scikit-learn.org. See: https://github.com/scikit-learn/scikit-learn/issues/21755 */display: inline-block !important;position: relative;}#sk-container-id-2 div.sk-text-repr-fallback {display: none;}</style><div id=\"sk-container-id-2\" class=\"sk-top-container\"><div class=\"sk-text-repr-fallback\"><pre>SVC(C=0.3, gamma=&#x27;auto&#x27;, kernel=&#x27;linear&#x27;)</pre><b>In a Jupyter environment, please rerun this cell to show the HTML representation or trust the notebook. <br />On GitHub, the HTML representation is unable to render, please try loading this page with nbviewer.org.</b></div><div class=\"sk-container\" hidden><div class=\"sk-item\"><div class=\"sk-estimator sk-toggleable\"><input class=\"sk-toggleable__control sk-hidden--visually\" id=\"sk-estimator-id-2\" type=\"checkbox\" checked><label for=\"sk-estimator-id-2\" class=\"sk-toggleable__label sk-toggleable__label-arrow\">SVC</label><div class=\"sk-toggleable__content\"><pre>SVC(C=0.3, gamma=&#x27;auto&#x27;, kernel=&#x27;linear&#x27;)</pre></div></div></div></div></div>"
      ],
      "text/plain": [
       "SVC(C=0.3, gamma='auto', kernel='linear')"
      ]
     },
     "execution_count": 21,
     "metadata": {},
     "output_type": "execute_result"
    }
   ],
   "source": [
    "model.fit(x_train, y_train)"
   ]
  },
  {
   "cell_type": "code",
   "execution_count": null,
   "metadata": {},
   "outputs": [],
   "source": [
    "y_predicted = model.predict(x_test)"
   ]
  },
  {
   "cell_type": "markdown",
   "metadata": {},
   "source": [
    "## __Evaluando resultados y precisión__\n",
    "\n",
    "Ahora evaluaremos los resultados, revisaremos la presición y el puntaje f1.\n",
    "\n",
    "Procedemos a hacer lo siguiente:\n",
    "\n",
    "* Importar el módulo __classification_report__ de la librería __Sklearn.metrics__.\n",
    "\n",
    "* Agregamos a los atributos de la clase classification_report() el siguiente atributo:\n",
    "\n",
    "    - Valor de prueba: y_test\n",
    "\n",
    "    - Calore predecido: y_predicted\n",
    "\n",
    "\n",
    "Con esto podemos el siguiente resultado:\n",
    "\n",
    "- 99% de los pacientes se encuentran en __estado leve__.\n",
    "\n",
    "- 93% de los pacientes se encuentran en __mal estado__."
   ]
  },
  {
   "cell_type": "code",
   "execution_count": null,
   "metadata": {},
   "outputs": [
    {
     "name": "stdout",
     "output_type": "stream",
     "text": [
      "              precision    recall  f1-score   support\n",
      "\n",
      "           2       0.97      0.93      0.95       125\n",
      "           4       0.89      0.95      0.92        80\n",
      "\n",
      "    accuracy                           0.94       205\n",
      "   macro avg       0.93      0.94      0.93       205\n",
      "weighted avg       0.94      0.94      0.94       205\n",
      "\n"
     ]
    }
   ],
   "source": [
    "from sklearn.metrics import classification_report\n",
    "\n",
    "print(classification_report(y_test, y_predicted))"
   ]
  },
  {
   "cell_type": "markdown",
   "metadata": {},
   "source": [
    "### __¿Cómo lo calcula nuestro sistema?__\n",
    "\n",
    "__True positive__: Verdadero positivo\n",
    "\n",
    "__False positive__: Falso positivo\n",
    "\n",
    "__recall__: Recuerdo\n",
    "\n",
    "- precision = (True positive) / (True positive + False positive) o precision = (True positive) / Total\n",
    "\n",
    "El __f1 score__ es una media harmónica, esto es:\n",
    "\n",
    "- f1 score = 2 * (precision * recall) * (precision + recall)\n",
    "\n",
    "y soporte significa instancia aquí muestra que la clase 2 era positiva y la clase 4 era negativa.\n",
    "\n",
    "Esto da resultado a que 137 es 83 + 54, el resultado del dataset."
   ]
  }
 ],
 "metadata": {
  "kernelspec": {
   "display_name": "Python 3.10.0 64-bit",
   "language": "python",
   "name": "python3"
  },
  "language_info": {
   "codemirror_mode": {
    "name": "ipython",
    "version": 3
   },
   "file_extension": ".py",
   "mimetype": "text/x-python",
   "name": "python",
   "nbconvert_exporter": "python",
   "pygments_lexer": "ipython3",
   "version": "3.10.0"
  },
  "orig_nbformat": 4,
  "vscode": {
   "interpreter": {
    "hash": "26de051ba29f2982a8de78e945f0abaf191376122a1563185a90213a26c5da77"
   }
  }
 },
 "nbformat": 4,
 "nbformat_minor": 2
}
